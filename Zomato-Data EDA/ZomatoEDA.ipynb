{
 "cells": [
  {
   "cell_type": "code",
   "execution_count": 176,
   "id": "00a27c3b",
   "metadata": {},
   "outputs": [],
   "source": [
    "import numpy as np\n",
    "import pandas as pd\n",
    "import matplotlib.pyplot as plt\n",
    "import seaborn as sns\n",
    "from scipy import stats\n"
   ]
  },
  {
   "cell_type": "code",
   "execution_count": 177,
   "id": "f0607482",
   "metadata": {},
   "outputs": [],
   "source": [
    "df = pd.read_csv('../Datasets/Zomato.csv')"
   ]
  },
  {
   "cell_type": "code",
   "execution_count": 178,
   "id": "45008b4c",
   "metadata": {},
   "outputs": [
    {
     "name": "stdout",
     "output_type": "stream",
     "text": [
      "                    name online_order book_table   rate  votes  \\\n",
      "0                  Jalsa          Yes        Yes  4.1/5    775   \n",
      "1         Spice Elephant          Yes         No  4.1/5    787   \n",
      "2        San Churro Cafe          Yes         No  3.8/5    918   \n",
      "3  Addhuri Udupi Bhojana           No         No  3.7/5     88   \n",
      "4          Grand Village           No         No  3.8/5    166   \n",
      "\n",
      "   approx_cost(for two people) listed_in(type)  \n",
      "0                          800          Buffet  \n",
      "1                          800          Buffet  \n",
      "2                          800          Buffet  \n",
      "3                          300          Buffet  \n",
      "4                          600          Buffet  \n"
     ]
    }
   ],
   "source": [
    "print(df.head())"
   ]
  },
  {
   "cell_type": "code",
   "execution_count": 179,
   "id": "960a7e23",
   "metadata": {},
   "outputs": [
    {
     "data": {
      "application/vnd.microsoft.datawrangler.viewer.v0+json": {
       "columns": [
        {
         "name": "index",
         "rawType": "int64",
         "type": "integer"
        },
        {
         "name": "name",
         "rawType": "object",
         "type": "string"
        },
        {
         "name": "online_order",
         "rawType": "object",
         "type": "string"
        },
        {
         "name": "book_table",
         "rawType": "object",
         "type": "string"
        },
        {
         "name": "rate",
         "rawType": "object",
         "type": "string"
        },
        {
         "name": "votes",
         "rawType": "int64",
         "type": "integer"
        },
        {
         "name": "approx_cost(for two people)",
         "rawType": "int64",
         "type": "integer"
        },
        {
         "name": "listed_in(type)",
         "rawType": "object",
         "type": "string"
        }
       ],
       "ref": "ec12392a-7523-4831-aaa0-3f8c4712e27d",
       "rows": [
        [
         "25",
         "CAFE NOVA",
         "No",
         "No",
         "3.2/5",
         "11",
         "600",
         "Cafes"
        ],
        [
         "104",
         "CAFE NOVA",
         "No",
         "No",
         "3.2/5",
         "11",
         "600",
         "Dining"
        ],
        [
         "7",
         "Onesta",
         "Yes",
         "Yes",
         "4.6/5",
         "2556",
         "600",
         "Cafes"
        ],
        [
         "44",
         "Onesta",
         "Yes",
         "Yes",
         "4.6/5",
         "2556",
         "600",
         "other"
        ],
        [
         "2",
         "San Churro Cafe",
         "Yes",
         "No",
         "3.8/5",
         "918",
         "800",
         "Buffet"
        ],
        [
         "14",
         "San Churro Cafe",
         "Yes",
         "No",
         "3.8/5",
         "918",
         "800",
         "Cafes"
        ]
       ],
       "shape": {
        "columns": 7,
        "rows": 6
       }
      },
      "text/html": [
       "<div>\n",
       "<style scoped>\n",
       "    .dataframe tbody tr th:only-of-type {\n",
       "        vertical-align: middle;\n",
       "    }\n",
       "\n",
       "    .dataframe tbody tr th {\n",
       "        vertical-align: top;\n",
       "    }\n",
       "\n",
       "    .dataframe thead th {\n",
       "        text-align: right;\n",
       "    }\n",
       "</style>\n",
       "<table border=\"1\" class=\"dataframe\">\n",
       "  <thead>\n",
       "    <tr style=\"text-align: right;\">\n",
       "      <th></th>\n",
       "      <th>name</th>\n",
       "      <th>online_order</th>\n",
       "      <th>book_table</th>\n",
       "      <th>rate</th>\n",
       "      <th>votes</th>\n",
       "      <th>approx_cost(for two people)</th>\n",
       "      <th>listed_in(type)</th>\n",
       "    </tr>\n",
       "  </thead>\n",
       "  <tbody>\n",
       "    <tr>\n",
       "      <th>25</th>\n",
       "      <td>CAFE NOVA</td>\n",
       "      <td>No</td>\n",
       "      <td>No</td>\n",
       "      <td>3.2/5</td>\n",
       "      <td>11</td>\n",
       "      <td>600</td>\n",
       "      <td>Cafes</td>\n",
       "    </tr>\n",
       "    <tr>\n",
       "      <th>104</th>\n",
       "      <td>CAFE NOVA</td>\n",
       "      <td>No</td>\n",
       "      <td>No</td>\n",
       "      <td>3.2/5</td>\n",
       "      <td>11</td>\n",
       "      <td>600</td>\n",
       "      <td>Dining</td>\n",
       "    </tr>\n",
       "    <tr>\n",
       "      <th>7</th>\n",
       "      <td>Onesta</td>\n",
       "      <td>Yes</td>\n",
       "      <td>Yes</td>\n",
       "      <td>4.6/5</td>\n",
       "      <td>2556</td>\n",
       "      <td>600</td>\n",
       "      <td>Cafes</td>\n",
       "    </tr>\n",
       "    <tr>\n",
       "      <th>44</th>\n",
       "      <td>Onesta</td>\n",
       "      <td>Yes</td>\n",
       "      <td>Yes</td>\n",
       "      <td>4.6/5</td>\n",
       "      <td>2556</td>\n",
       "      <td>600</td>\n",
       "      <td>other</td>\n",
       "    </tr>\n",
       "    <tr>\n",
       "      <th>2</th>\n",
       "      <td>San Churro Cafe</td>\n",
       "      <td>Yes</td>\n",
       "      <td>No</td>\n",
       "      <td>3.8/5</td>\n",
       "      <td>918</td>\n",
       "      <td>800</td>\n",
       "      <td>Buffet</td>\n",
       "    </tr>\n",
       "    <tr>\n",
       "      <th>14</th>\n",
       "      <td>San Churro Cafe</td>\n",
       "      <td>Yes</td>\n",
       "      <td>No</td>\n",
       "      <td>3.8/5</td>\n",
       "      <td>918</td>\n",
       "      <td>800</td>\n",
       "      <td>Cafes</td>\n",
       "    </tr>\n",
       "  </tbody>\n",
       "</table>\n",
       "</div>"
      ],
      "text/plain": [
       "                name online_order book_table   rate  votes  \\\n",
       "25         CAFE NOVA           No         No  3.2/5     11   \n",
       "104        CAFE NOVA           No         No  3.2/5     11   \n",
       "7             Onesta          Yes        Yes  4.6/5   2556   \n",
       "44            Onesta          Yes        Yes  4.6/5   2556   \n",
       "2    San Churro Cafe          Yes         No  3.8/5    918   \n",
       "14   San Churro Cafe          Yes         No  3.8/5    918   \n",
       "\n",
       "     approx_cost(for two people) listed_in(type)  \n",
       "25                           600           Cafes  \n",
       "104                          600          Dining  \n",
       "7                            600           Cafes  \n",
       "44                           600           other  \n",
       "2                            800          Buffet  \n",
       "14                           800           Cafes  "
      ]
     },
     "execution_count": 179,
     "metadata": {},
     "output_type": "execute_result"
    }
   ],
   "source": [
    "dup_groups = df[df.duplicated(subset=['name'], keep=False)]\n",
    "\n",
    "# Compare side by side\n",
    "dup_groups.sort_values('name')"
   ]
  },
  {
   "cell_type": "markdown",
   "id": "4046a181",
   "metadata": {},
   "source": [
    "There are some restaurants where 2 types of eating is preferred by people. Coincidentaly all its factors remain same which is very rare"
   ]
  },
  {
   "cell_type": "code",
   "execution_count": 180,
   "id": "e67a6d2e",
   "metadata": {},
   "outputs": [
    {
     "name": "stdout",
     "output_type": "stream",
     "text": [
      "['name', 'online_order', 'book_table', 'rate', 'votes', 'approx_cost(for two people)', 'listed_in(type)']\n"
     ]
    }
   ],
   "source": [
    "print(df.columns.tolist())"
   ]
  },
  {
   "cell_type": "code",
   "execution_count": 181,
   "id": "bb5f2150",
   "metadata": {},
   "outputs": [
    {
     "name": "stdout",
     "output_type": "stream",
     "text": [
      "Number of rows and columns: (148, 7)\n"
     ]
    }
   ],
   "source": [
    "print(\"Number of rows and columns:\", df.shape)"
   ]
  },
  {
   "cell_type": "code",
   "execution_count": 182,
   "id": "5b6c9ca6",
   "metadata": {},
   "outputs": [
    {
     "name": "stdout",
     "output_type": "stream",
     "text": [
      "<class 'pandas.core.frame.DataFrame'>\n",
      "RangeIndex: 148 entries, 0 to 147\n",
      "Data columns (total 7 columns):\n",
      " #   Column                       Non-Null Count  Dtype \n",
      "---  ------                       --------------  ----- \n",
      " 0   name                         148 non-null    object\n",
      " 1   online_order                 148 non-null    object\n",
      " 2   book_table                   148 non-null    object\n",
      " 3   rate                         148 non-null    object\n",
      " 4   votes                        148 non-null    int64 \n",
      " 5   approx_cost(for two people)  148 non-null    int64 \n",
      " 6   listed_in(type)              148 non-null    object\n",
      "dtypes: int64(2), object(5)\n",
      "memory usage: 8.2+ KB\n"
     ]
    }
   ],
   "source": [
    "df.info()"
   ]
  },
  {
   "cell_type": "code",
   "execution_count": 183,
   "id": "f237f5ab",
   "metadata": {},
   "outputs": [
    {
     "data": {
      "application/vnd.microsoft.datawrangler.viewer.v0+json": {
       "columns": [
        {
         "name": "index",
         "rawType": "object",
         "type": "string"
        },
        {
         "name": "0",
         "rawType": "int64",
         "type": "integer"
        }
       ],
       "ref": "243c4db7-4b4c-4d1c-aa4a-d060dc447764",
       "rows": [
        [
         "name",
         "0"
        ],
        [
         "online_order",
         "0"
        ],
        [
         "book_table",
         "0"
        ],
        [
         "rate",
         "0"
        ],
        [
         "votes",
         "0"
        ],
        [
         "approx_cost(for two people)",
         "0"
        ],
        [
         "listed_in(type)",
         "0"
        ]
       ],
       "shape": {
        "columns": 1,
        "rows": 7
       }
      },
      "text/plain": [
       "name                           0\n",
       "online_order                   0\n",
       "book_table                     0\n",
       "rate                           0\n",
       "votes                          0\n",
       "approx_cost(for two people)    0\n",
       "listed_in(type)                0\n",
       "dtype: int64"
      ]
     },
     "execution_count": 183,
     "metadata": {},
     "output_type": "execute_result"
    }
   ],
   "source": [
    "df.isnull().sum()"
   ]
  },
  {
   "cell_type": "code",
   "execution_count": 184,
   "id": "416a16ab",
   "metadata": {},
   "outputs": [
    {
     "data": {
      "application/vnd.microsoft.datawrangler.viewer.v0+json": {
       "columns": [
        {
         "name": "index",
         "rawType": "int64",
         "type": "integer"
        },
        {
         "name": "rate",
         "rawType": "float64",
         "type": "float"
        }
       ],
       "ref": "62454555-98d6-4b66-9bee-a7a2ff29ee81",
       "rows": [
        [
         "0",
         "4.1"
        ],
        [
         "1",
         "4.1"
        ],
        [
         "2",
         "3.8"
        ],
        [
         "3",
         "3.7"
        ],
        [
         "4",
         "3.8"
        ],
        [
         "5",
         "3.8"
        ],
        [
         "6",
         "3.6"
        ],
        [
         "7",
         "4.6"
        ],
        [
         "8",
         "4.0"
        ],
        [
         "9",
         "4.2"
        ],
        [
         "10",
         "4.1"
        ],
        [
         "11",
         "4.2"
        ],
        [
         "12",
         "4.2"
        ],
        [
         "13",
         "4.0"
        ],
        [
         "14",
         "3.8"
        ],
        [
         "15",
         "3.8"
        ],
        [
         "16",
         "3.9"
        ],
        [
         "17",
         "3.8"
        ],
        [
         "18",
         "3.9"
        ],
        [
         "19",
         "3.1"
        ],
        [
         "20",
         "3.0"
        ],
        [
         "21",
         "3.7"
        ],
        [
         "22",
         "3.6"
        ],
        [
         "23",
         "3.6"
        ],
        [
         "24",
         "3.7"
        ],
        [
         "25",
         "3.2"
        ],
        [
         "26",
         "3.8"
        ],
        [
         "27",
         "3.3"
        ],
        [
         "28",
         "3.3"
        ],
        [
         "29",
         "3.8"
        ],
        [
         "30",
         "4.0"
        ],
        [
         "31",
         "2.8"
        ],
        [
         "32",
         "3.9"
        ],
        [
         "33",
         "3.9"
        ],
        [
         "34",
         "4.2"
        ],
        [
         "35",
         "3.9"
        ],
        [
         "36",
         "2.8"
        ],
        [
         "37",
         "4.2"
        ],
        [
         "38",
         "4.4"
        ],
        [
         "39",
         "4.0"
        ],
        [
         "40",
         "3.8"
        ],
        [
         "41",
         "3.9"
        ],
        [
         "42",
         "3.9"
        ],
        [
         "43",
         "3.9"
        ],
        [
         "44",
         "4.6"
        ],
        [
         "45",
         "3.8"
        ],
        [
         "46",
         "3.6"
        ],
        [
         "47",
         "4.0"
        ],
        [
         "48",
         "3.7"
        ],
        [
         "49",
         "3.1"
        ]
       ],
       "shape": {
        "columns": 1,
        "rows": 148
       }
      },
      "text/plain": [
       "0      4.1\n",
       "1      4.1\n",
       "2      3.8\n",
       "3      3.7\n",
       "4      3.8\n",
       "      ... \n",
       "143    3.3\n",
       "144    3.3\n",
       "145    4.0\n",
       "146    3.0\n",
       "147    3.9\n",
       "Name: rate, Length: 148, dtype: float64"
      ]
     },
     "execution_count": 184,
     "metadata": {},
     "output_type": "execute_result"
    }
   ],
   "source": [
    "df['rate'] = df['rate'].str.split('/').str[0].astype(float)\n",
    "df['rate']"
   ]
  },
  {
   "cell_type": "code",
   "execution_count": 185,
   "id": "f35293a9",
   "metadata": {},
   "outputs": [
    {
     "name": "stdout",
     "output_type": "stream",
     "text": [
      "Lower: -315.75\n",
      "Upper: 544.25\n",
      "Count of outliers in votes:19\n",
      "Count of outliers in votes:144\n"
     ]
    }
   ],
   "source": [
    "Q1 = np.quantile(df['votes'],0.25)\n",
    "Q3 = np.quantile(df['votes'],0.75)\n",
    "\n",
    "IQR = Q3-Q1\n",
    "\n",
    "lower = Q1 - 1.5*IQR\n",
    "upper = Q3 + 1.5*IQR\n",
    "\n",
    "count = sum((x<lower) or (x>upper) for x in df['votes'])\n",
    "\n",
    "print(f\"Lower: {lower}\")\n",
    "print(f\"Upper: {upper}\")\n",
    "print(f\"Count of outliers in votes:{count}\")\n",
    "\n",
    "z_score = np.abs(stats.zscore(df['votes']))\n",
    "countz = sum(z_score<3)\n",
    "print(f\"Count of outliers in votes:{countz}\")"
   ]
  },
  {
   "cell_type": "code",
   "execution_count": 186,
   "id": "f4ea6063",
   "metadata": {},
   "outputs": [
    {
     "data": {
      "image/png": "[encoded data removed]",
      "text/plain": [
       "<Figure size 1200x500 with 2 Axes>"
      ]
     },
     "metadata": {},
     "output_type": "display_data"
    }
   ],
   "source": [
    "fig, axes = plt.subplots(1, 2, figsize=(12, 5))  # 1 row, 2 columns\n",
    "\n",
    "# Histogram\n",
    "axes[0].hist(df['votes'], bins=20, color='skyblue', edgecolor='black')\n",
    "axes[0].set_title('Histogram of votes_log')\n",
    "axes[0].set_xlabel('Log of Votes')\n",
    "axes[0].set_ylabel('Frequency')\n",
    "\n",
    "# Boxplot\n",
    "axes[1].boxplot(df['votes'], vert=True, patch_artist=True, boxprops=dict(facecolor='lightgreen'))\n",
    "axes[1].set_title('Boxplot of votes_log')\n",
    "axes[1].set_ylabel('Log of Votes')\n",
    "\n",
    "plt.tight_layout()\n",
    "plt.show()"
   ]
  },
  {
   "cell_type": "code",
   "execution_count": 187,
   "id": "22d35c4e",
   "metadata": {},
   "outputs": [
    {
     "name": "stdout",
     "output_type": "stream",
     "text": [
      "Lower: -2.9935908972828176\n",
      "Upper: 10.445474678201244\n",
      "Count of outliers in votes:0\n"
     ]
    }
   ],
   "source": [
    "df['votes_log'] = np.log1p(df['votes'])  # log transform\n",
    "\n",
    "Q1 = np.quantile(df['votes_log'],0.25)\n",
    "Q3 = np.quantile(df['votes_log'],0.75)\n",
    "\n",
    "IQR = Q3-Q1\n",
    "\n",
    "lower = Q1 - 1.5*IQR\n",
    "upper = Q3 + 1.5*IQR\n",
    "\n",
    "count = sum((x<lower) or (x>upper) for x in df['votes_log'])\n",
    "\n",
    "print(f\"Lower: {lower}\")\n",
    "print(f\"Upper: {upper}\")\n",
    "print(f\"Count of outliers in votes:{count}\")"
   ]
  },
  {
   "cell_type": "code",
   "execution_count": 188,
   "id": "196ce9ad",
   "metadata": {},
   "outputs": [
    {
     "data": {
      "application/vnd.microsoft.datawrangler.viewer.v0+json": {
       "columns": [
        {
         "name": "index",
         "rawType": "int64",
         "type": "integer"
        },
        {
         "name": "votes_log",
         "rawType": "float64",
         "type": "float"
        }
       ],
       "ref": "49b0cf83-d855-4e51-8cde-b4476691a523",
       "rows": [
        [
         "0",
         "6.654152520183219"
        ],
        [
         "1",
         "6.669498089857879"
        ],
        [
         "2",
         "6.823286122355687"
        ],
        [
         "3",
         "4.48863636973214"
        ],
        [
         "4",
         "5.117993812416755"
        ],
        [
         "5",
         "5.659482215759621"
        ],
        [
         "6",
         "2.1972245773362196"
        ],
        [
         "7",
         "7.846589975291186"
        ],
        [
         "8",
         "5.783825182329737"
        ],
        [
         "9",
         "6.22455842927536"
        ],
        [
         "10",
         "5.998936561946683"
        ],
        [
         "11",
         "5.017279836814924"
        ],
        [
         "12",
         "5.10594547390058"
        ],
        [
         "13",
         "6.052089168924417"
        ],
        [
         "14",
         "6.823286122355687"
        ],
        [
         "15",
         "4.51085950651685"
        ],
        [
         "16",
         "4.897839799950911"
        ],
        [
         "17",
         "4.976733742420574"
        ],
        [
         "18",
         "4.543294782270004"
        ],
        [
         "19",
         "2.6390573296152584"
        ],
        [
         "20",
         "4.143134726391533"
        ],
        [
         "21",
         "5.198497031265826"
        ],
        [
         "22",
         "3.367295829986474"
        ],
        [
         "23",
         "4.143134726391533"
        ],
        [
         "24",
         "3.4657359027997265"
        ],
        [
         "25",
         "2.4849066497880004"
        ],
        [
         "26",
         "4.330733340286331"
        ],
        [
         "27",
         "1.6094379124341003"
        ],
        [
         "28",
         "3.1780538303479458"
        ],
        [
         "29",
         "5.003946305945459"
        ],
        [
         "30",
         "5.393627546352362"
        ],
        [
         "31",
         "6.2285110035911835"
        ],
        [
         "32",
         "3.58351893845611"
        ],
        [
         "33",
         "5.153291594497779"
        ],
        [
         "34",
         "6.030685260261263"
        ],
        [
         "35",
         "5.442417710521793"
        ],
        [
         "36",
         "4.5217885770490405"
        ],
        [
         "37",
         "7.4073177104694174"
        ],
        [
         "38",
         "8.493924564476883"
        ],
        [
         "39",
         "2.8903717578961645"
        ],
        [
         "40",
         "4.897839799950911"
        ],
        [
         "41",
         "3.367295829986474"
        ],
        [
         "42",
         "5.659482215759621"
        ],
        [
         "43",
         "6.293419278846481"
        ],
        [
         "44",
         "7.846589975291186"
        ],
        [
         "45",
         "3.6109179126442243"
        ],
        [
         "46",
         "5.501258210544727"
        ],
        [
         "47",
         "6.690842277418564"
        ],
        [
         "48",
         "6.522092798170152"
        ],
        [
         "49",
         "5.5053315359323625"
        ]
       ],
       "shape": {
        "columns": 1,
        "rows": 148
       }
      },
      "text/plain": [
       "0      6.654153\n",
       "1      6.669498\n",
       "2      6.823286\n",
       "3      4.488636\n",
       "4      5.117994\n",
       "         ...   \n",
       "143    0.000000\n",
       "144    0.000000\n",
       "145    6.648985\n",
       "146    4.595120\n",
       "147    3.871201\n",
       "Name: votes_log, Length: 148, dtype: float64"
      ]
     },
     "execution_count": 188,
     "metadata": {},
     "output_type": "execute_result"
    }
   ],
   "source": [
    "df['votes_log']"
   ]
  },
  {
   "cell_type": "code",
   "execution_count": 189,
   "id": "bcaa390c",
   "metadata": {},
   "outputs": [
    {
     "data": {
      "image/png": "[encoded data removed]",
      "text/plain": [
       "<Figure size 1200x500 with 2 Axes>"
      ]
     },
     "metadata": {},
     "output_type": "display_data"
    }
   ],
   "source": [
    "fig, axes = plt.subplots(1, 2, figsize=(12, 5))  # 1 row, 2 columns\n",
    "\n",
    "# Histogram\n",
    "axes[0].hist(df['votes_log'], bins=20, color='skyblue', edgecolor='black')\n",
    "axes[0].set_title('Histogram of votes_log')\n",
    "axes[0].set_xlabel('Log of Votes')\n",
    "axes[0].set_ylabel('Frequency')\n",
    "\n",
    "# Boxplot\n",
    "axes[1].boxplot(df['votes_log'], vert=True, patch_artist=True, boxprops=dict(facecolor='lightgreen'))\n",
    "axes[1].set_title('Boxplot of votes_log')\n",
    "axes[1].set_ylabel('Log of Votes')\n",
    "\n",
    "plt.tight_layout()\n",
    "plt.show()"
   ]
  },
  {
   "cell_type": "code",
   "execution_count": 190,
   "id": "c06e8ff6",
   "metadata": {},
   "outputs": [
    {
     "name": "stdout",
     "output_type": "stream",
     "text": [
      "Correlation between rate and votes_log: 0.5998234002604741\n",
      "Covariance between rate and votes_log: 0.5752271027692498\n"
     ]
    }
   ],
   "source": [
    "correlation = df['rate'].corr(df['votes_log'])\n",
    "print(\"Correlation between rate and votes_log:\", correlation)\n",
    "\n",
    "covariance = df['rate'].cov(df['votes_log'])\n",
    "print(\"Covariance between rate and votes_log:\", covariance)"
   ]
  },
  {
   "cell_type": "code",
   "execution_count": 191,
   "id": "3997f022",
   "metadata": {},
   "outputs": [
    {
     "data": {
      "image/png": "[encoded data removed]",
      "text/plain": [
       "<Figure size 800x500 with 1 Axes>"
      ]
     },
     "metadata": {},
     "output_type": "display_data"
    }
   ],
   "source": [
    "plt.figure(figsize=(8,5))\n",
    "plt.scatter(df['rate'], df['votes_log'], color='blue', alpha=0.7)\n",
    "plt.title('Scatter Plot of votes_log')\n",
    "plt.xlabel('Rate')\n",
    "plt.ylabel('Log of Votes')\n",
    "plt.show()"
   ]
  },
  {
   "cell_type": "markdown",
   "id": "54f984f4",
   "metadata": {},
   "source": [
    "We can see that the rate and vote of people show a positive correlation but its strength is not that great suggesting a mixed emotions. Its relevant as there are many restaurants with 0 votes suggesting that it might have opened very recently so not many people have tried it"
   ]
  },
  {
   "cell_type": "code",
   "execution_count": 192,
   "id": "6f584ef3",
   "metadata": {},
   "outputs": [
    {
     "data": {
      "image/png": "[encoded data removed]",
      "text/plain": [
       "<Figure size 640x480 with 1 Axes>"
      ]
     },
     "metadata": {},
     "output_type": "display_data"
    }
   ],
   "source": [
    "type_count = df['listed_in(type)'].value_counts()\n",
    "\n",
    "plt.bar(type_count.index,type_count.values)\n",
    "plt.show()"
   ]
  },
  {
   "cell_type": "markdown",
   "id": "55099308",
   "metadata": {},
   "source": [
    "Most people prefer dining in the restaurant"
   ]
  },
  {
   "cell_type": "code",
   "execution_count": 193,
   "id": "717c2eb1",
   "metadata": {},
   "outputs": [
    {
     "data": {
      "text/plain": [
       "Text(0.5, 0, 'Type of restaurant')"
      ]
     },
     "execution_count": 193,
     "metadata": {},
     "output_type": "execute_result"
    },
    {
     "data": {
      "image/png": "[encoded data removed]",
      "text/plain": [
       "<Figure size 640x480 with 1 Axes>"
      ]
     },
     "metadata": {},
     "output_type": "display_data"
    }
   ],
   "source": [
    "sns.countplot(x=df['online_order'])\n",
    "plt.xlabel(\"Type of restaurant\")"
   ]
  },
  {
   "cell_type": "code",
   "execution_count": 194,
   "id": "0ba46e51",
   "metadata": {},
   "outputs": [
    {
     "data": {
      "text/plain": [
       "Text(0.5, 0, 'Type of restaurant')"
      ]
     },
     "execution_count": 194,
     "metadata": {},
     "output_type": "execute_result"
    },
    {
     "data": {
      "image/png": "[encoded data removed]",
      "text/plain": [
       "<Figure size 640x480 with 1 Axes>"
      ]
     },
     "metadata": {},
     "output_type": "display_data"
    }
   ],
   "source": [
    "sns.countplot(x=df['approx_cost(for two people)'])\n",
    "plt.xlabel(\"Type of restaurant\")"
   ]
  },
  {
   "cell_type": "code",
   "execution_count": 195,
   "id": "59dc2aa9",
   "metadata": {},
   "outputs": [
    {
     "data": {
      "application/vnd.microsoft.datawrangler.viewer.v0+json": {
       "columns": [
        {
         "name": "index",
         "rawType": "int64",
         "type": "integer"
        },
        {
         "name": "online",
         "rawType": "int64",
         "type": "integer"
        }
       ],
       "ref": "23dcb9ad-f7ab-41a8-96e7-0017f7814f71",
       "rows": [
        [
         "0",
         "1"
        ],
        [
         "1",
         "1"
        ],
        [
         "2",
         "1"
        ],
        [
         "3",
         "0"
        ],
        [
         "4",
         "0"
        ],
        [
         "5",
         "1"
        ],
        [
         "6",
         "0"
        ],
        [
         "7",
         "1"
        ],
        [
         "8",
         "1"
        ],
        [
         "9",
         "1"
        ],
        [
         "10",
         "1"
        ],
        [
         "11",
         "1"
        ],
        [
         "12",
         "1"
        ],
        [
         "13",
         "0"
        ],
        [
         "14",
         "1"
        ],
        [
         "15",
         "1"
        ],
        [
         "16",
         "1"
        ],
        [
         "17",
         "1"
        ],
        [
         "18",
         "0"
        ],
        [
         "19",
         "1"
        ],
        [
         "20",
         "1"
        ],
        [
         "21",
         "1"
        ],
        [
         "22",
         "0"
        ],
        [
         "23",
         "1"
        ],
        [
         "24",
         "0"
        ],
        [
         "25",
         "0"
        ],
        [
         "26",
         "1"
        ],
        [
         "27",
         "0"
        ],
        [
         "28",
         "0"
        ],
        [
         "29",
         "0"
        ],
        [
         "30",
         "1"
        ],
        [
         "31",
         "1"
        ],
        [
         "32",
         "1"
        ],
        [
         "33",
         "1"
        ],
        [
         "34",
         "1"
        ],
        [
         "35",
         "1"
        ],
        [
         "36",
         "1"
        ],
        [
         "37",
         "1"
        ],
        [
         "38",
         "1"
        ],
        [
         "39",
         "1"
        ],
        [
         "40",
         "1"
        ],
        [
         "41",
         "0"
        ],
        [
         "42",
         "1"
        ],
        [
         "43",
         "1"
        ],
        [
         "44",
         "1"
        ],
        [
         "45",
         "0"
        ],
        [
         "46",
         "1"
        ],
        [
         "47",
         "1"
        ],
        [
         "48",
         "1"
        ],
        [
         "49",
         "1"
        ]
       ],
       "shape": {
        "columns": 1,
        "rows": 148
       }
      },
      "text/plain": [
       "0      1\n",
       "1      1\n",
       "2      1\n",
       "3      0\n",
       "4      0\n",
       "      ..\n",
       "143    0\n",
       "144    0\n",
       "145    1\n",
       "146    0\n",
       "147    1\n",
       "Name: online, Length: 148, dtype: int64"
      ]
     },
     "execution_count": 195,
     "metadata": {},
     "output_type": "execute_result"
    }
   ],
   "source": [
    "df['online'] = df['online_order'].map({'No': 0, 'Yes': 1})\n",
    "df['online']"
   ]
  },
  {
   "cell_type": "code",
   "execution_count": 196,
   "id": "226a1746",
   "metadata": {},
   "outputs": [
    {
     "data": {
      "text/plain": [
       "<Axes: xlabel='online', ylabel='rate'>"
      ]
     },
     "execution_count": 196,
     "metadata": {},
     "output_type": "execute_result"
    },
    {
     "data": {
      "image/png": "[encoded data removed]",
      "text/plain": [
       "<Figure size 600x600 with 1 Axes>"
      ]
     },
     "metadata": {},
     "output_type": "display_data"
    }
   ],
   "source": [
    "plt.figure(figsize = (6,6))\n",
    "sns.boxplot(x = 'online', y = 'rate', data = df)"
   ]
  },
  {
   "cell_type": "code",
   "execution_count": 197,
   "id": "632ea39d",
   "metadata": {},
   "outputs": [],
   "source": [
    "from sklearn.preprocessing import LabelEncoder\n",
    "\n",
    "encoder = LabelEncoder()\n",
    "df['type'] = encoder.fit_transform(df['listed_in(type)'])"
   ]
  },
  {
   "cell_type": "code",
   "execution_count": 198,
   "id": "62d29cd0",
   "metadata": {},
   "outputs": [
    {
     "data": {
      "application/vnd.microsoft.datawrangler.viewer.v0+json": {
       "columns": [
        {
         "name": "index",
         "rawType": "int64",
         "type": "integer"
        },
        {
         "name": "type",
         "rawType": "int64",
         "type": "integer"
        }
       ],
       "ref": "7a951317-4135-4662-b0b5-f2cf254785c5",
       "rows": [
        [
         "0",
         "0"
        ],
        [
         "1",
         "0"
        ],
        [
         "2",
         "0"
        ],
        [
         "3",
         "0"
        ],
        [
         "4",
         "0"
        ],
        [
         "5",
         "0"
        ],
        [
         "6",
         "0"
        ],
        [
         "7",
         "1"
        ],
        [
         "8",
         "3"
        ],
        [
         "9",
         "1"
        ],
        [
         "10",
         "1"
        ],
        [
         "11",
         "1"
        ],
        [
         "12",
         "1"
        ],
        [
         "13",
         "1"
        ],
        [
         "14",
         "1"
        ],
        [
         "15",
         "1"
        ],
        [
         "16",
         "1"
        ],
        [
         "17",
         "1"
        ],
        [
         "18",
         "1"
        ],
        [
         "19",
         "1"
        ],
        [
         "20",
         "1"
        ],
        [
         "21",
         "1"
        ],
        [
         "22",
         "1"
        ],
        [
         "23",
         "1"
        ],
        [
         "24",
         "1"
        ],
        [
         "25",
         "1"
        ],
        [
         "26",
         "1"
        ],
        [
         "27",
         "1"
        ],
        [
         "28",
         "1"
        ],
        [
         "29",
         "1"
        ],
        [
         "30",
         "1"
        ],
        [
         "31",
         "3"
        ],
        [
         "32",
         "2"
        ],
        [
         "33",
         "2"
        ],
        [
         "34",
         "3"
        ],
        [
         "35",
         "2"
        ],
        [
         "36",
         "2"
        ],
        [
         "37",
         "2"
        ],
        [
         "38",
         "3"
        ],
        [
         "39",
         "2"
        ],
        [
         "40",
         "2"
        ],
        [
         "41",
         "2"
        ],
        [
         "42",
         "2"
        ],
        [
         "43",
         "2"
        ],
        [
         "44",
         "3"
        ],
        [
         "45",
         "2"
        ],
        [
         "46",
         "2"
        ],
        [
         "47",
         "2"
        ],
        [
         "48",
         "2"
        ],
        [
         "49",
         "2"
        ]
       ],
       "shape": {
        "columns": 1,
        "rows": 148
       }
      },
      "text/plain": [
       "0      0\n",
       "1      0\n",
       "2      0\n",
       "3      0\n",
       "4      0\n",
       "      ..\n",
       "143    2\n",
       "144    2\n",
       "145    2\n",
       "146    2\n",
       "147    2\n",
       "Name: type, Length: 148, dtype: int64"
      ]
     },
     "execution_count": 198,
     "metadata": {},
     "output_type": "execute_result"
    }
   ],
   "source": [
    "df['type']"
   ]
  },
  {
   "cell_type": "code",
   "execution_count": 199,
   "id": "5cf09ba0",
   "metadata": {},
   "outputs": [
    {
     "name": "stdout",
     "output_type": "stream",
     "text": [
      "-0.12994655709241953\n"
     ]
    }
   ],
   "source": [
    "correlation = df['online'].corr(df['type'])\n",
    "\n",
    "print(correlation)"
   ]
  },
  {
   "cell_type": "code",
   "execution_count": 203,
   "id": "686d5be5",
   "metadata": {},
   "outputs": [
    {
     "name": "stdout",
     "output_type": "stream",
     "text": [
      "Restaurant with highest rating: 4.6\n",
      "Restaurant:['Onesta']\n"
     ]
    }
   ],
   "source": [
    "print(f\"Restaurant with highest rating: {df['rate'].max()}\")\n",
    "restaurant = df.loc[df['rate'] == df['rate'].max(), 'name']\n",
    "print(f\"Restaurant:{restaurant.unique()}\")"
   ]
  },
  {
   "cell_type": "code",
   "execution_count": 205,
   "id": "7d9ec6d3",
   "metadata": {},
   "outputs": [
    {
     "name": "stdout",
     "output_type": "stream",
     "text": [
      "Restaurant with highest approx cost for a couple: 950\n",
      "Restaurant:['Ayda Persian Kitchen']\n"
     ]
    }
   ],
   "source": [
    "print(f\"Restaurant with highest approx cost for a couple: {df['approx_cost(for two people)'].max()}\")\n",
    "restaurant = df.loc[df['approx_cost(for two people)'] == df['approx_cost(for two people)'].max(), 'name']\n",
    "print(f\"Restaurant:{restaurant.unique()}\")"
   ]
  },
  {
   "cell_type": "code",
   "execution_count": null,
   "id": "61b470f8",
   "metadata": {},
   "outputs": [],
   "source": []
  }
 ],
 "metadata": {
  "kernelspec": {
   "display_name": "Python 3",
   "language": "python",
   "name": "python3"
  },
  "language_info": {
   "codemirror_mode": {
    "name": "ipython",
    "version": 3
   },
   "file_extension": ".py",
   "mimetype": "text/x-python",
   "name": "python",
   "nbconvert_exporter": "python",
   "pygments_lexer": "ipython3",
   "version": "3.13.7"
  }
 },
 "nbformat": 4,
 "nbformat_minor": 5
}
